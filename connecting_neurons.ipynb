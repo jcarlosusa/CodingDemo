{
  "nbformat": 4,
  "nbformat_minor": 0,
  "metadata": {
    "file_extension": ".py",
    "kernelspec": {
      "display_name": "Python 3",
      "language": "python",
      "name": "python3"
    },
    "language_info": {
      "codemirror_mode": {
        "name": "ipython",
        "version": 3
      },
      "file_extension": ".py",
      "mimetype": "text/x-python",
      "name": "python",
      "nbconvert_exporter": "python",
      "pygments_lexer": "ipython3",
      "version": "3.7.3"
    },
    "mimetype": "text/x-python",
    "name": "python",
    "npconvert_exporter": "python",
    "pygments_lexer": "ipython3",
    "version": 3,
    "colab": {
      "name": "Copy of connecting_neurons.ipynb",
      "provenance": [],
      "toc_visible": true,
      "include_colab_link": true
    },
    "accelerator": "GPU"
  },
  "cells": [
    {
      "cell_type": "markdown",
      "metadata": {
        "id": "view-in-github",
        "colab_type": "text"
      },
      "source": [
        "<a href=\"https://colab.research.google.com/github/jcarlosusa/CodingDemo/blob/main/connecting_neurons.ipynb\" target=\"_parent\"><img src=\"https://colab.research.google.com/assets/colab-badge.svg\" alt=\"Open In Colab\"/></a>"
      ]
    },
    {
      "cell_type": "markdown",
      "metadata": {
        "id": "S7Sajbhvgf4B"
      },
      "source": [
        "# Instructor Do: Connecting Neurons"
      ]
    },
    {
      "cell_type": "code",
      "metadata": {
        "id": "njYW3H7Bgf4D"
      },
      "source": [
        "# Initial imports\n",
        "import pandas as pd\n",
        "import numpy as np\n",
        "# import hvplot.pandas\n",
        "# import holoviews as hv\n",
        "from sklearn.datasets import make_moons\n",
        "from sklearn.model_selection import train_test_split\n",
        "from sklearn.preprocessing import StandardScaler\n",
        "from tensorflow.keras.models import Sequential\n",
        "from tensorflow.keras.layers import Dense"
      ],
      "execution_count": null,
      "outputs": []
    },
    {
      "cell_type": "markdown",
      "metadata": {
        "id": "Ex2VmxtAgf4G"
      },
      "source": [
        "## Creating Dummy Data"
      ]
    },
    {
      "cell_type": "code",
      "metadata": {
        "id": "eotS6zGrgf4H"
      },
      "source": [
        "# Creating dummy non-linear data\n",
        "X_moons, y_moons = make_moons(n_samples=1000, noise=0.08, random_state=78)"
      ],
      "execution_count": null,
      "outputs": []
    },
    {
      "cell_type": "code",
      "metadata": {
        "id": "k-S1Lk2cgf4H"
      },
      "source": [
        "# Transforming y_moons to a vertical vector\n",
        "y_moons = y_moons.reshape(-1, 1)"
      ],
      "execution_count": null,
      "outputs": []
    },
    {
      "cell_type": "code",
      "metadata": {
        "colab": {
          "base_uri": "https://localhost:8080/",
          "height": 204
        },
        "id": "punoxzR5gf4H",
        "outputId": "d49b092f-264d-4bab-9e6c-6d436c3716e0"
      },
      "source": [
        "# Creating a DataFrame to plot the non-linear dummy data\n",
        "df_moons = pd.DataFrame(X_moons, columns=[\"Feature 1\", \"Feature 2\"])\n",
        "df_moons[\"Target\"] = y_moons\n",
        "df_moons.head()"
      ],
      "execution_count": null,
      "outputs": [
        {
          "output_type": "execute_result",
          "data": {
            "text/html": [
              "<div>\n",
              "<style scoped>\n",
              "    .dataframe tbody tr th:only-of-type {\n",
              "        vertical-align: middle;\n",
              "    }\n",
              "\n",
              "    .dataframe tbody tr th {\n",
              "        vertical-align: top;\n",
              "    }\n",
              "\n",
              "    .dataframe thead th {\n",
              "        text-align: right;\n",
              "    }\n",
              "</style>\n",
              "<table border=\"1\" class=\"dataframe\">\n",
              "  <thead>\n",
              "    <tr style=\"text-align: right;\">\n",
              "      <th></th>\n",
              "      <th>Feature 1</th>\n",
              "      <th>Feature 2</th>\n",
              "      <th>Target</th>\n",
              "    </tr>\n",
              "  </thead>\n",
              "  <tbody>\n",
              "    <tr>\n",
              "      <th>0</th>\n",
              "      <td>0.676217</td>\n",
              "      <td>0.815220</td>\n",
              "      <td>0</td>\n",
              "    </tr>\n",
              "    <tr>\n",
              "      <th>1</th>\n",
              "      <td>1.487143</td>\n",
              "      <td>-0.210519</td>\n",
              "      <td>1</td>\n",
              "    </tr>\n",
              "    <tr>\n",
              "      <th>2</th>\n",
              "      <td>-1.027709</td>\n",
              "      <td>0.354966</td>\n",
              "      <td>0</td>\n",
              "    </tr>\n",
              "    <tr>\n",
              "      <th>3</th>\n",
              "      <td>0.236012</td>\n",
              "      <td>1.025531</td>\n",
              "      <td>0</td>\n",
              "    </tr>\n",
              "    <tr>\n",
              "      <th>4</th>\n",
              "      <td>1.856695</td>\n",
              "      <td>-0.042783</td>\n",
              "      <td>1</td>\n",
              "    </tr>\n",
              "  </tbody>\n",
              "</table>\n",
              "</div>"
            ],
            "text/plain": [
              "   Feature 1  Feature 2  Target\n",
              "0   0.676217   0.815220       0\n",
              "1   1.487143  -0.210519       1\n",
              "2  -1.027709   0.354966       0\n",
              "3   0.236012   1.025531       0\n",
              "4   1.856695  -0.042783       1"
            ]
          },
          "metadata": {
            "tags": []
          },
          "execution_count": 6
        }
      ]
    },
    {
      "cell_type": "code",
      "metadata": {
        "colab": {
          "base_uri": "https://localhost:8080/"
        },
        "id": "HMGraiYIhKCk",
        "outputId": "e6c7b0fa-88b7-43fc-fa46-7db536f1d834"
      },
      "source": [
        "!pip install hvplot\n",
        "!pip install bokeh\n",
        "\n",
        "import hvplot\n",
        "import bokeh"
      ],
      "execution_count": null,
      "outputs": [
        {
          "output_type": "stream",
          "text": [
            "Requirement already satisfied: hvplot in /usr/local/lib/python3.7/dist-packages (0.7.2)\n",
            "Requirement already satisfied: pandas in /usr/local/lib/python3.7/dist-packages (from hvplot) (1.1.5)\n",
            "Requirement already satisfied: colorcet>=2 in /usr/local/lib/python3.7/dist-packages (from hvplot) (2.0.6)\n",
            "Requirement already satisfied: holoviews>=1.11.0 in /usr/local/lib/python3.7/dist-packages (from hvplot) (1.14.3)\n",
            "Requirement already satisfied: bokeh>=1.0.0 in /usr/local/lib/python3.7/dist-packages (from hvplot) (2.3.2)\n",
            "Requirement already satisfied: numpy>=1.15 in /usr/local/lib/python3.7/dist-packages (from hvplot) (1.19.5)\n",
            "Requirement already satisfied: pytz>=2017.2 in /usr/local/lib/python3.7/dist-packages (from pandas->hvplot) (2018.9)\n",
            "Requirement already satisfied: python-dateutil>=2.7.3 in /usr/local/lib/python3.7/dist-packages (from pandas->hvplot) (2.8.1)\n",
            "Requirement already satisfied: pyct>=0.4.4 in /usr/local/lib/python3.7/dist-packages (from colorcet>=2->hvplot) (0.4.8)\n",
            "Requirement already satisfied: param>=1.7.0 in /usr/local/lib/python3.7/dist-packages (from colorcet>=2->hvplot) (1.10.1)\n",
            "Requirement already satisfied: panel>=0.8.0 in /usr/local/lib/python3.7/dist-packages (from holoviews>=1.11.0->hvplot) (0.11.3)\n",
            "Requirement already satisfied: pyviz-comms>=0.7.4 in /usr/local/lib/python3.7/dist-packages (from holoviews>=1.11.0->hvplot) (2.0.1)\n",
            "Requirement already satisfied: typing-extensions>=3.7.4 in /usr/local/lib/python3.7/dist-packages (from bokeh>=1.0.0->hvplot) (3.7.4.3)\n",
            "Requirement already satisfied: packaging>=16.8 in /usr/local/lib/python3.7/dist-packages (from bokeh>=1.0.0->hvplot) (20.9)\n",
            "Requirement already satisfied: PyYAML>=3.10 in /usr/local/lib/python3.7/dist-packages (from bokeh>=1.0.0->hvplot) (3.13)\n",
            "Requirement already satisfied: pillow>=7.1.0 in /usr/local/lib/python3.7/dist-packages (from bokeh>=1.0.0->hvplot) (7.1.2)\n",
            "Requirement already satisfied: tornado>=5.1 in /usr/local/lib/python3.7/dist-packages (from bokeh>=1.0.0->hvplot) (5.1.1)\n",
            "Requirement already satisfied: Jinja2>=2.9 in /usr/local/lib/python3.7/dist-packages (from bokeh>=1.0.0->hvplot) (2.11.3)\n",
            "Requirement already satisfied: six>=1.5 in /usr/local/lib/python3.7/dist-packages (from python-dateutil>=2.7.3->pandas->hvplot) (1.15.0)\n",
            "Requirement already satisfied: markdown in /usr/local/lib/python3.7/dist-packages (from panel>=0.8.0->holoviews>=1.11.0->hvplot) (3.3.4)\n",
            "Requirement already satisfied: requests in /usr/local/lib/python3.7/dist-packages (from panel>=0.8.0->holoviews>=1.11.0->hvplot) (2.23.0)\n",
            "Requirement already satisfied: tqdm in /usr/local/lib/python3.7/dist-packages (from panel>=0.8.0->holoviews>=1.11.0->hvplot) (4.41.1)\n",
            "Requirement already satisfied: pyparsing>=2.0.2 in /usr/local/lib/python3.7/dist-packages (from packaging>=16.8->bokeh>=1.0.0->hvplot) (2.4.7)\n",
            "Requirement already satisfied: MarkupSafe>=0.23 in /usr/local/lib/python3.7/dist-packages (from Jinja2>=2.9->bokeh>=1.0.0->hvplot) (2.0.1)\n",
            "Requirement already satisfied: importlib-metadata; python_version < \"3.8\" in /usr/local/lib/python3.7/dist-packages (from markdown->panel>=0.8.0->holoviews>=1.11.0->hvplot) (4.0.1)\n",
            "Requirement already satisfied: urllib3!=1.25.0,!=1.25.1,<1.26,>=1.21.1 in /usr/local/lib/python3.7/dist-packages (from requests->panel>=0.8.0->holoviews>=1.11.0->hvplot) (1.24.3)\n",
            "Requirement already satisfied: certifi>=2017.4.17 in /usr/local/lib/python3.7/dist-packages (from requests->panel>=0.8.0->holoviews>=1.11.0->hvplot) (2020.12.5)\n",
            "Requirement already satisfied: idna<3,>=2.5 in /usr/local/lib/python3.7/dist-packages (from requests->panel>=0.8.0->holoviews>=1.11.0->hvplot) (2.10)\n",
            "Requirement already satisfied: chardet<4,>=3.0.2 in /usr/local/lib/python3.7/dist-packages (from requests->panel>=0.8.0->holoviews>=1.11.0->hvplot) (3.0.4)\n",
            "Requirement already satisfied: zipp>=0.5 in /usr/local/lib/python3.7/dist-packages (from importlib-metadata; python_version < \"3.8\"->markdown->panel>=0.8.0->holoviews>=1.11.0->hvplot) (3.4.1)\n",
            "Requirement already satisfied: bokeh in /usr/local/lib/python3.7/dist-packages (2.3.2)\n",
            "Requirement already satisfied: Jinja2>=2.9 in /usr/local/lib/python3.7/dist-packages (from bokeh) (2.11.3)\n",
            "Requirement already satisfied: python-dateutil>=2.1 in /usr/local/lib/python3.7/dist-packages (from bokeh) (2.8.1)\n",
            "Requirement already satisfied: tornado>=5.1 in /usr/local/lib/python3.7/dist-packages (from bokeh) (5.1.1)\n",
            "Requirement already satisfied: numpy>=1.11.3 in /usr/local/lib/python3.7/dist-packages (from bokeh) (1.19.5)\n",
            "Requirement already satisfied: typing-extensions>=3.7.4 in /usr/local/lib/python3.7/dist-packages (from bokeh) (3.7.4.3)\n",
            "Requirement already satisfied: PyYAML>=3.10 in /usr/local/lib/python3.7/dist-packages (from bokeh) (3.13)\n",
            "Requirement already satisfied: packaging>=16.8 in /usr/local/lib/python3.7/dist-packages (from bokeh) (20.9)\n",
            "Requirement already satisfied: pillow>=7.1.0 in /usr/local/lib/python3.7/dist-packages (from bokeh) (7.1.2)\n",
            "Requirement already satisfied: MarkupSafe>=0.23 in /usr/local/lib/python3.7/dist-packages (from Jinja2>=2.9->bokeh) (2.0.1)\n",
            "Requirement already satisfied: six>=1.5 in /usr/local/lib/python3.7/dist-packages (from python-dateutil>=2.1->bokeh) (1.15.0)\n",
            "Requirement already satisfied: pyparsing>=2.0.2 in /usr/local/lib/python3.7/dist-packages (from packaging>=16.8->bokeh) (2.4.7)\n"
          ],
          "name": "stdout"
        }
      ]
    },
    {
      "cell_type": "code",
      "metadata": {
        "colab": {
          "base_uri": "https://localhost:8080/",
          "height": 232
        },
        "id": "74FinUuPgf4I",
        "outputId": "6afa85ef-f2f0-49af-bf6c-c5f8ec52bff6"
      },
      "source": [
        "# Plotting the non-linear dummy data\n",
        "\n",
        "hv.extension(\"bokeh\")\n",
        "plot = df_moons.hvplot.scatter(x=\"Feature 1\", y=\"Feature 2\", by=\"Target\")\n",
        "plot"
      ],
      "execution_count": null,
      "outputs": [
        {
          "output_type": "error",
          "ename": "NameError",
          "evalue": "ignored",
          "traceback": [
            "\u001b[0;31m---------------------------------------------------------------------------\u001b[0m",
            "\u001b[0;31mNameError\u001b[0m                                 Traceback (most recent call last)",
            "\u001b[0;32m<ipython-input-8-58675d4fc56f>\u001b[0m in \u001b[0;36m<module>\u001b[0;34m()\u001b[0m\n\u001b[1;32m      1\u001b[0m \u001b[0;31m# Plotting the non-linear dummy data\u001b[0m\u001b[0;34m\u001b[0m\u001b[0;34m\u001b[0m\u001b[0;34m\u001b[0m\u001b[0m\n\u001b[1;32m      2\u001b[0m \u001b[0;34m\u001b[0m\u001b[0m\n\u001b[0;32m----> 3\u001b[0;31m \u001b[0mhv\u001b[0m\u001b[0;34m.\u001b[0m\u001b[0mextension\u001b[0m\u001b[0;34m(\u001b[0m\u001b[0;34m\"bokeh\"\u001b[0m\u001b[0;34m)\u001b[0m\u001b[0;34m\u001b[0m\u001b[0;34m\u001b[0m\u001b[0m\n\u001b[0m\u001b[1;32m      4\u001b[0m \u001b[0mplot\u001b[0m \u001b[0;34m=\u001b[0m \u001b[0mdf_moons\u001b[0m\u001b[0;34m.\u001b[0m\u001b[0mhvplot\u001b[0m\u001b[0;34m.\u001b[0m\u001b[0mscatter\u001b[0m\u001b[0;34m(\u001b[0m\u001b[0mx\u001b[0m\u001b[0;34m=\u001b[0m\u001b[0;34m\"Feature 1\"\u001b[0m\u001b[0;34m,\u001b[0m \u001b[0my\u001b[0m\u001b[0;34m=\u001b[0m\u001b[0;34m\"Feature 2\"\u001b[0m\u001b[0;34m,\u001b[0m \u001b[0mby\u001b[0m\u001b[0;34m=\u001b[0m\u001b[0;34m\"Target\"\u001b[0m\u001b[0;34m)\u001b[0m\u001b[0;34m\u001b[0m\u001b[0;34m\u001b[0m\u001b[0m\n\u001b[1;32m      5\u001b[0m \u001b[0mplot\u001b[0m\u001b[0;34m\u001b[0m\u001b[0;34m\u001b[0m\u001b[0m\n",
            "\u001b[0;31mNameError\u001b[0m: name 'hv' is not defined"
          ]
        }
      ]
    },
    {
      "cell_type": "markdown",
      "metadata": {
        "id": "twKYvpZqgf4J"
      },
      "source": [
        "## Data Preprocessing"
      ]
    },
    {
      "cell_type": "code",
      "metadata": {
        "id": "jjuYutC4gf4J"
      },
      "source": [
        "# Create training and testing sets\n",
        "X_moon_train, X_moon_test, y_moon_train, y_moon_test = train_test_split(\n",
        "    X_moons, y_moons, random_state=78\n",
        ")"
      ],
      "execution_count": null,
      "outputs": []
    },
    {
      "cell_type": "code",
      "metadata": {
        "id": "pB6ji6MIgf4J"
      },
      "source": [
        "# Create the scaler instance\n",
        "X_moon_scaler = StandardScaler()"
      ],
      "execution_count": null,
      "outputs": []
    },
    {
      "cell_type": "code",
      "metadata": {
        "colab": {
          "base_uri": "https://localhost:8080/"
        },
        "id": "pObF2aIngf4J",
        "outputId": "f6397b0b-9127-436d-c7f0-5a0c50072565"
      },
      "source": [
        "# Fit the scaler\n",
        "X_moon_scaler.fit(X_moon_train)"
      ],
      "execution_count": null,
      "outputs": [
        {
          "output_type": "execute_result",
          "data": {
            "text/plain": [
              "StandardScaler(copy=True, with_mean=True, with_std=True)"
            ]
          },
          "metadata": {
            "tags": []
          },
          "execution_count": 11
        }
      ]
    },
    {
      "cell_type": "code",
      "metadata": {
        "id": "wJ7Qk2KCgf4K"
      },
      "source": [
        "# Scale the data\n",
        "X_moon_train_scaled = X_moon_scaler.transform(X_moon_train)\n",
        "X_moon_test_scaled = X_moon_scaler.transform(X_moon_test)"
      ],
      "execution_count": null,
      "outputs": []
    },
    {
      "cell_type": "markdown",
      "metadata": {
        "id": "ePxef8bJgf4K"
      },
      "source": [
        "## Neural Network Model Creation"
      ]
    },
    {
      "cell_type": "code",
      "metadata": {
        "id": "2UwKo7CFgf4K"
      },
      "source": [
        "# Create the sequential model\n",
        "nn = Sequential()"
      ],
      "execution_count": null,
      "outputs": []
    },
    {
      "cell_type": "markdown",
      "metadata": {
        "id": "qZeADYThgf4K"
      },
      "source": [
        "### Fisrt Layer"
      ]
    },
    {
      "cell_type": "code",
      "metadata": {
        "id": "_GFB8DJugf4L"
      },
      "source": [
        "# First layer\n",
        "number_inputs = 2\n",
        "number_hidden_nodes = 6\n",
        "\n",
        "nn.add(Dense(units=number_hidden_nodes, activation=\"relu\", input_dim=number_inputs))"
      ],
      "execution_count": null,
      "outputs": []
    },
    {
      "cell_type": "markdown",
      "metadata": {
        "id": "3UEhOxD6gf4L"
      },
      "source": [
        "### Output Layer"
      ]
    },
    {
      "cell_type": "code",
      "metadata": {
        "id": "xcuyZP7Dgf4L"
      },
      "source": [
        "# Output layer\n",
        "number_classes = 1\n",
        "\n",
        "nn.add(Dense(units=number_classes, activation=\"sigmoid\"))"
      ],
      "execution_count": null,
      "outputs": []
    },
    {
      "cell_type": "code",
      "metadata": {
        "colab": {
          "base_uri": "https://localhost:8080/"
        },
        "id": "4TOvq-8mgf4L",
        "outputId": "814f7783-8d43-40c8-8cf1-d3936dedf07c"
      },
      "source": [
        "# Model summary\n",
        "nn.summary()"
      ],
      "execution_count": null,
      "outputs": [
        {
          "output_type": "stream",
          "text": [
            "Model: \"sequential\"\n",
            "_________________________________________________________________\n",
            "Layer (type)                 Output Shape              Param #   \n",
            "=================================================================\n",
            "dense (Dense)                (None, 6)                 18        \n",
            "_________________________________________________________________\n",
            "dense_1 (Dense)              (None, 1)                 7         \n",
            "=================================================================\n",
            "Total params: 25\n",
            "Trainable params: 25\n",
            "Non-trainable params: 0\n",
            "_________________________________________________________________\n"
          ],
          "name": "stdout"
        }
      ]
    },
    {
      "cell_type": "markdown",
      "metadata": {
        "id": "zvGaNlNegf4L"
      },
      "source": [
        "## Compile the Model"
      ]
    },
    {
      "cell_type": "code",
      "metadata": {
        "id": "v7Jwmtb2gf4M"
      },
      "source": [
        "# Compile model\n",
        "nn.compile(loss=\"binary_crossentropy\", optimizer=\"adam\", metrics=[\"accuracy\"])"
      ],
      "execution_count": null,
      "outputs": []
    },
    {
      "cell_type": "markdown",
      "metadata": {
        "id": "pFnKxnn8gf4M"
      },
      "source": [
        "## Fit the Model"
      ]
    },
    {
      "cell_type": "code",
      "metadata": {
        "colab": {
          "base_uri": "https://localhost:8080/"
        },
        "id": "kT0CJkfngf4M",
        "outputId": "b8daae78-5c2f-4b3d-f618-ec9e964e8937"
      },
      "source": [
        "# Training the model with the non-linear data\n",
        "model_moon = nn.fit(X_moon_train_scaled, y_moon_train, epochs=100)"
      ],
      "execution_count": null,
      "outputs": [
        {
          "output_type": "stream",
          "text": [
            "Epoch 1/100\n",
            "24/24 [==============================] - 3s 2ms/step - loss: 0.5256 - accuracy: 0.8827\n",
            "Epoch 2/100\n",
            "24/24 [==============================] - 0s 2ms/step - loss: 0.5020 - accuracy: 0.8813\n",
            "Epoch 3/100\n",
            "24/24 [==============================] - 0s 2ms/step - loss: 0.4787 - accuracy: 0.8800\n",
            "Epoch 4/100\n",
            "24/24 [==============================] - 0s 2ms/step - loss: 0.4562 - accuracy: 0.8800\n",
            "Epoch 5/100\n",
            "24/24 [==============================] - 0s 3ms/step - loss: 0.4340 - accuracy: 0.8827\n",
            "Epoch 6/100\n",
            "24/24 [==============================] - 0s 2ms/step - loss: 0.4133 - accuracy: 0.8853\n",
            "Epoch 7/100\n",
            "24/24 [==============================] - 0s 2ms/step - loss: 0.3941 - accuracy: 0.8853\n",
            "Epoch 8/100\n",
            "24/24 [==============================] - 0s 3ms/step - loss: 0.3762 - accuracy: 0.8893\n",
            "Epoch 9/100\n",
            "24/24 [==============================] - 0s 2ms/step - loss: 0.3603 - accuracy: 0.8920\n",
            "Epoch 10/100\n",
            "24/24 [==============================] - 0s 3ms/step - loss: 0.3458 - accuracy: 0.8920\n",
            "Epoch 11/100\n",
            "24/24 [==============================] - 0s 2ms/step - loss: 0.3331 - accuracy: 0.8933\n",
            "Epoch 12/100\n",
            "24/24 [==============================] - 0s 2ms/step - loss: 0.3218 - accuracy: 0.8947\n",
            "Epoch 13/100\n",
            "24/24 [==============================] - 0s 3ms/step - loss: 0.3117 - accuracy: 0.8933\n",
            "Epoch 14/100\n",
            "24/24 [==============================] - 0s 4ms/step - loss: 0.3031 - accuracy: 0.8947\n",
            "Epoch 15/100\n",
            "24/24 [==============================] - 0s 2ms/step - loss: 0.2956 - accuracy: 0.8933\n",
            "Epoch 16/100\n",
            "24/24 [==============================] - 0s 2ms/step - loss: 0.2891 - accuracy: 0.8933\n",
            "Epoch 17/100\n",
            "24/24 [==============================] - 0s 2ms/step - loss: 0.2835 - accuracy: 0.8933\n",
            "Epoch 18/100\n",
            "24/24 [==============================] - 0s 2ms/step - loss: 0.2788 - accuracy: 0.8947\n",
            "Epoch 19/100\n",
            "24/24 [==============================] - 0s 2ms/step - loss: 0.2749 - accuracy: 0.8947\n",
            "Epoch 20/100\n",
            "24/24 [==============================] - 0s 2ms/step - loss: 0.2714 - accuracy: 0.8933\n",
            "Epoch 21/100\n",
            "24/24 [==============================] - 0s 2ms/step - loss: 0.2683 - accuracy: 0.8933\n",
            "Epoch 22/100\n",
            "24/24 [==============================] - 0s 2ms/step - loss: 0.2658 - accuracy: 0.8933\n",
            "Epoch 23/100\n",
            "24/24 [==============================] - 0s 3ms/step - loss: 0.2636 - accuracy: 0.8933\n",
            "Epoch 24/100\n",
            "24/24 [==============================] - 0s 3ms/step - loss: 0.2617 - accuracy: 0.8933\n",
            "Epoch 25/100\n",
            "24/24 [==============================] - 0s 2ms/step - loss: 0.2601 - accuracy: 0.8947\n",
            "Epoch 26/100\n",
            "24/24 [==============================] - 0s 2ms/step - loss: 0.2588 - accuracy: 0.8947\n",
            "Epoch 27/100\n",
            "24/24 [==============================] - 0s 2ms/step - loss: 0.2577 - accuracy: 0.8947\n",
            "Epoch 28/100\n",
            "24/24 [==============================] - 0s 2ms/step - loss: 0.2566 - accuracy: 0.8960\n",
            "Epoch 29/100\n",
            "24/24 [==============================] - 0s 2ms/step - loss: 0.2557 - accuracy: 0.8947\n",
            "Epoch 30/100\n",
            "24/24 [==============================] - 0s 3ms/step - loss: 0.2550 - accuracy: 0.8960\n",
            "Epoch 31/100\n",
            "24/24 [==============================] - 0s 2ms/step - loss: 0.2543 - accuracy: 0.8973\n",
            "Epoch 32/100\n",
            "24/24 [==============================] - 0s 2ms/step - loss: 0.2539 - accuracy: 0.8960\n",
            "Epoch 33/100\n",
            "24/24 [==============================] - 0s 2ms/step - loss: 0.2533 - accuracy: 0.8960\n",
            "Epoch 34/100\n",
            "24/24 [==============================] - 0s 3ms/step - loss: 0.2530 - accuracy: 0.8987\n",
            "Epoch 35/100\n",
            "24/24 [==============================] - 0s 2ms/step - loss: 0.2526 - accuracy: 0.8987\n",
            "Epoch 36/100\n",
            "24/24 [==============================] - 0s 3ms/step - loss: 0.2522 - accuracy: 0.8987\n",
            "Epoch 37/100\n",
            "24/24 [==============================] - 0s 3ms/step - loss: 0.2518 - accuracy: 0.9000\n",
            "Epoch 38/100\n",
            "24/24 [==============================] - 0s 2ms/step - loss: 0.2516 - accuracy: 0.8987\n",
            "Epoch 39/100\n",
            "24/24 [==============================] - 0s 2ms/step - loss: 0.2513 - accuracy: 0.8987\n",
            "Epoch 40/100\n",
            "24/24 [==============================] - 0s 2ms/step - loss: 0.2511 - accuracy: 0.9000\n",
            "Epoch 41/100\n",
            "24/24 [==============================] - 0s 2ms/step - loss: 0.2510 - accuracy: 0.8987\n",
            "Epoch 42/100\n",
            "24/24 [==============================] - 0s 2ms/step - loss: 0.2507 - accuracy: 0.8973\n",
            "Epoch 43/100\n",
            "24/24 [==============================] - 0s 3ms/step - loss: 0.2506 - accuracy: 0.8973\n",
            "Epoch 44/100\n",
            "24/24 [==============================] - 0s 2ms/step - loss: 0.2506 - accuracy: 0.8987\n",
            "Epoch 45/100\n",
            "24/24 [==============================] - 0s 2ms/step - loss: 0.2503 - accuracy: 0.8987\n",
            "Epoch 46/100\n",
            "24/24 [==============================] - 0s 2ms/step - loss: 0.2501 - accuracy: 0.8987\n",
            "Epoch 47/100\n",
            "24/24 [==============================] - 0s 2ms/step - loss: 0.2501 - accuracy: 0.8973\n",
            "Epoch 48/100\n",
            "24/24 [==============================] - 0s 2ms/step - loss: 0.2499 - accuracy: 0.8973\n",
            "Epoch 49/100\n",
            "24/24 [==============================] - 0s 3ms/step - loss: 0.2498 - accuracy: 0.8987\n",
            "Epoch 50/100\n",
            "24/24 [==============================] - 0s 2ms/step - loss: 0.2497 - accuracy: 0.8987\n",
            "Epoch 51/100\n",
            "24/24 [==============================] - 0s 2ms/step - loss: 0.2496 - accuracy: 0.8973\n",
            "Epoch 52/100\n",
            "24/24 [==============================] - 0s 2ms/step - loss: 0.2496 - accuracy: 0.8973\n",
            "Epoch 53/100\n",
            "24/24 [==============================] - 0s 2ms/step - loss: 0.2497 - accuracy: 0.8973\n",
            "Epoch 54/100\n",
            "24/24 [==============================] - 0s 3ms/step - loss: 0.2493 - accuracy: 0.8973\n",
            "Epoch 55/100\n",
            "24/24 [==============================] - 0s 3ms/step - loss: 0.2493 - accuracy: 0.8960\n",
            "Epoch 56/100\n",
            "24/24 [==============================] - 0s 2ms/step - loss: 0.2492 - accuracy: 0.8960\n",
            "Epoch 57/100\n",
            "24/24 [==============================] - 0s 3ms/step - loss: 0.2491 - accuracy: 0.8960\n",
            "Epoch 58/100\n",
            "24/24 [==============================] - 0s 2ms/step - loss: 0.2490 - accuracy: 0.8947\n",
            "Epoch 59/100\n",
            "24/24 [==============================] - 0s 2ms/step - loss: 0.2490 - accuracy: 0.8973\n",
            "Epoch 60/100\n",
            "24/24 [==============================] - 0s 2ms/step - loss: 0.2490 - accuracy: 0.8960\n",
            "Epoch 61/100\n",
            "24/24 [==============================] - 0s 2ms/step - loss: 0.2488 - accuracy: 0.8947\n",
            "Epoch 62/100\n",
            "24/24 [==============================] - 0s 2ms/step - loss: 0.2487 - accuracy: 0.8947\n",
            "Epoch 63/100\n",
            "24/24 [==============================] - 0s 2ms/step - loss: 0.2488 - accuracy: 0.8947\n",
            "Epoch 64/100\n",
            "24/24 [==============================] - 0s 2ms/step - loss: 0.2487 - accuracy: 0.8947\n",
            "Epoch 65/100\n",
            "24/24 [==============================] - 0s 3ms/step - loss: 0.2486 - accuracy: 0.8947\n",
            "Epoch 66/100\n",
            "24/24 [==============================] - 0s 2ms/step - loss: 0.2485 - accuracy: 0.8947\n",
            "Epoch 67/100\n",
            "24/24 [==============================] - 0s 2ms/step - loss: 0.2485 - accuracy: 0.8947\n",
            "Epoch 68/100\n",
            "24/24 [==============================] - 0s 3ms/step - loss: 0.2484 - accuracy: 0.8947\n",
            "Epoch 69/100\n",
            "24/24 [==============================] - 0s 2ms/step - loss: 0.2484 - accuracy: 0.8947\n",
            "Epoch 70/100\n",
            "24/24 [==============================] - 0s 2ms/step - loss: 0.2483 - accuracy: 0.8933\n",
            "Epoch 71/100\n",
            "24/24 [==============================] - 0s 2ms/step - loss: 0.2482 - accuracy: 0.8933\n",
            "Epoch 72/100\n",
            "24/24 [==============================] - 0s 3ms/step - loss: 0.2481 - accuracy: 0.8933\n",
            "Epoch 73/100\n",
            "24/24 [==============================] - 0s 2ms/step - loss: 0.2480 - accuracy: 0.8933\n",
            "Epoch 74/100\n",
            "24/24 [==============================] - 0s 3ms/step - loss: 0.2480 - accuracy: 0.8933\n",
            "Epoch 75/100\n",
            "24/24 [==============================] - 0s 2ms/step - loss: 0.2478 - accuracy: 0.8933\n",
            "Epoch 76/100\n",
            "24/24 [==============================] - 0s 2ms/step - loss: 0.2478 - accuracy: 0.8933\n",
            "Epoch 77/100\n",
            "24/24 [==============================] - 0s 2ms/step - loss: 0.2477 - accuracy: 0.8933\n",
            "Epoch 78/100\n",
            "24/24 [==============================] - 0s 2ms/step - loss: 0.2476 - accuracy: 0.8933\n",
            "Epoch 79/100\n",
            "24/24 [==============================] - 0s 3ms/step - loss: 0.2475 - accuracy: 0.8933\n",
            "Epoch 80/100\n",
            "24/24 [==============================] - 0s 2ms/step - loss: 0.2474 - accuracy: 0.8933\n",
            "Epoch 81/100\n",
            "24/24 [==============================] - 0s 2ms/step - loss: 0.2473 - accuracy: 0.8933\n",
            "Epoch 82/100\n",
            "24/24 [==============================] - 0s 2ms/step - loss: 0.2472 - accuracy: 0.8933\n",
            "Epoch 83/100\n",
            "24/24 [==============================] - 0s 3ms/step - loss: 0.2472 - accuracy: 0.8933\n",
            "Epoch 84/100\n",
            "24/24 [==============================] - 0s 2ms/step - loss: 0.2471 - accuracy: 0.8933\n",
            "Epoch 85/100\n",
            "24/24 [==============================] - 0s 2ms/step - loss: 0.2470 - accuracy: 0.8933\n",
            "Epoch 86/100\n",
            "24/24 [==============================] - 0s 3ms/step - loss: 0.2470 - accuracy: 0.8920\n",
            "Epoch 87/100\n",
            "24/24 [==============================] - 0s 2ms/step - loss: 0.2469 - accuracy: 0.8907\n",
            "Epoch 88/100\n",
            "24/24 [==============================] - 0s 2ms/step - loss: 0.2468 - accuracy: 0.8920\n",
            "Epoch 89/100\n",
            "24/24 [==============================] - 0s 2ms/step - loss: 0.2467 - accuracy: 0.8907\n",
            "Epoch 90/100\n",
            "24/24 [==============================] - 0s 3ms/step - loss: 0.2466 - accuracy: 0.8920\n",
            "Epoch 91/100\n",
            "24/24 [==============================] - 0s 2ms/step - loss: 0.2466 - accuracy: 0.8907\n",
            "Epoch 92/100\n",
            "24/24 [==============================] - 0s 2ms/step - loss: 0.2465 - accuracy: 0.8907\n",
            "Epoch 93/100\n",
            "24/24 [==============================] - 0s 2ms/step - loss: 0.2465 - accuracy: 0.8907\n",
            "Epoch 94/100\n",
            "24/24 [==============================] - 0s 2ms/step - loss: 0.2463 - accuracy: 0.8907\n",
            "Epoch 95/100\n",
            "24/24 [==============================] - 0s 3ms/step - loss: 0.2461 - accuracy: 0.8907\n",
            "Epoch 96/100\n",
            "24/24 [==============================] - 0s 2ms/step - loss: 0.2462 - accuracy: 0.8907\n",
            "Epoch 97/100\n",
            "24/24 [==============================] - 0s 3ms/step - loss: 0.2459 - accuracy: 0.8907\n",
            "Epoch 98/100\n",
            "24/24 [==============================] - 0s 3ms/step - loss: 0.2458 - accuracy: 0.8907\n",
            "Epoch 99/100\n",
            "24/24 [==============================] - 0s 3ms/step - loss: 0.2457 - accuracy: 0.8907\n",
            "Epoch 100/100\n",
            "24/24 [==============================] - 0s 2ms/step - loss: 0.2456 - accuracy: 0.8907\n"
          ],
          "name": "stdout"
        }
      ]
    },
    {
      "cell_type": "markdown",
      "metadata": {
        "id": "YJpCVzFagf4M"
      },
      "source": [
        "## Model Evaluation"
      ]
    },
    {
      "cell_type": "code",
      "metadata": {
        "colab": {
          "base_uri": "https://localhost:8080/"
        },
        "id": "KUuNu45Zgf4M",
        "outputId": "dea4e9db-2874-49e0-f388-356ab35f49d0"
      },
      "source": [
        "# Evaluate the model using non-linear testing data\n",
        "model_moon_loss, model_moon_accuracy = nn.evaluate(\n",
        "    X_moon_test_scaled, y_moon_test, verbose=2\n",
        ")\n",
        "print(f\"Loss: {model_moon_loss}, Accuracy: {model_moon_accuracy}\")"
      ],
      "execution_count": null,
      "outputs": [
        {
          "output_type": "stream",
          "text": [
            "8/8 - 0s - loss: 0.2640 - accuracy: 0.8600\n",
            "Loss: 0.2639564275741577, Accuracy: 0.8600000143051147\n"
          ],
          "name": "stdout"
        }
      ]
    }
  ]
}